{
  "nbformat": 4,
  "nbformat_minor": 0,
  "metadata": {
    "colab": {
      "name": "day5.ipynb",
      "provenance": [],
      "collapsed_sections": [],
      "mount_file_id": "1qDVlqHteg89hQgZ7y2NKRssBca9iWvfw",
      "authorship_tag": "ABX9TyON6gdP3ShzAPrxfE6ZzBeV",
      "include_colab_link": true
    },
    "kernelspec": {
      "name": "python3",
      "display_name": "Python 3"
    },
    "accelerator": "GPU"
  },
  "cells": [
    {
      "cell_type": "markdown",
      "metadata": {
        "id": "view-in-github",
        "colab_type": "text"
      },
      "source": [
        "<a href=\"https://colab.research.google.com/github/LeszekRutkowski/dw_matrix_road_sign/blob/master/day5.ipynb\" target=\"_parent\"><img src=\"https://colab.research.google.com/assets/colab-badge.svg\" alt=\"Open In Colab\"/></a>"
      ]
    },
    {
      "cell_type": "code",
      "metadata": {
        "id": "7qOG_YGVklrs",
        "colab_type": "code",
        "colab": {
          "base_uri": "https://localhost:8080/",
          "height": 170
        },
        "outputId": "3fec6ce5-9052-41a3-f9f6-e6729c023a11"
      },
      "source": [
        "!pip install hyperopt"
      ],
      "execution_count": 1,
      "outputs": [
        {
          "output_type": "stream",
          "text": [
            "Requirement already satisfied: hyperopt in /usr/local/lib/python3.6/dist-packages (0.1.2)\n",
            "Requirement already satisfied: numpy in /usr/local/lib/python3.6/dist-packages (from hyperopt) (1.18.2)\n",
            "Requirement already satisfied: six in /usr/local/lib/python3.6/dist-packages (from hyperopt) (1.12.0)\n",
            "Requirement already satisfied: future in /usr/local/lib/python3.6/dist-packages (from hyperopt) (0.16.0)\n",
            "Requirement already satisfied: networkx in /usr/local/lib/python3.6/dist-packages (from hyperopt) (2.4)\n",
            "Requirement already satisfied: pymongo in /usr/local/lib/python3.6/dist-packages (from hyperopt) (3.10.1)\n",
            "Requirement already satisfied: scipy in /usr/local/lib/python3.6/dist-packages (from hyperopt) (1.4.1)\n",
            "Requirement already satisfied: tqdm in /usr/local/lib/python3.6/dist-packages (from hyperopt) (4.38.0)\n",
            "Requirement already satisfied: decorator>=4.3.0 in /usr/local/lib/python3.6/dist-packages (from networkx->hyperopt) (4.4.2)\n"
          ],
          "name": "stdout"
        }
      ]
    },
    {
      "cell_type": "code",
      "metadata": {
        "id": "S1ZThpD2lluR",
        "colab_type": "code",
        "colab": {
          "base_uri": "https://localhost:8080/",
          "height": 51
        },
        "outputId": "69a068c5-4728-48a3-b942-33970ee1c9a1"
      },
      "source": [
        "import pandas as pd\n",
        "import numpy as np\n",
        "import os\n",
        "import datetime\n",
        "\n",
        "import tensorflow as tf\n",
        "from tensorflow.keras.models import Sequential\n",
        "from tensorflow.keras.layers import Conv2D, MaxPool2D, Dense, Flatten, Dropout\n",
        "from tensorflow.keras.utils import to_categorical\n",
        "\n",
        "%load_ext tensorboard\n",
        "\n",
        "import matplotlib.pyplot as plt\n",
        "from skimage import color, exposure \n",
        "\n",
        "from sklearn.metrics import accuracy_score\n",
        "\n",
        "from hyperopt import hp, STATUS_OK, tpe, Trials, fmin"
      ],
      "execution_count": 18,
      "outputs": [
        {
          "output_type": "stream",
          "text": [
            "The tensorboard extension is already loaded. To reload it, use:\n",
            "  %reload_ext tensorboard\n"
          ],
          "name": "stdout"
        }
      ]
    },
    {
      "cell_type": "code",
      "metadata": {
        "id": "JBs6ZHKllqm6",
        "colab_type": "code",
        "colab": {
          "base_uri": "https://localhost:8080/",
          "height": 34
        },
        "outputId": "c982afad-758a-45c0-b9b4-e6584301bed0"
      },
      "source": [
        "cd '/content/drive/My Drive/Colab Notebooks/matrix/matrix_three/dw_matrix_road_sign'"
      ],
      "execution_count": 3,
      "outputs": [
        {
          "output_type": "stream",
          "text": [
            "/content/drive/My Drive/Colab Notebooks/matrix/matrix_three/dw_matrix_road_sign\n"
          ],
          "name": "stdout"
        }
      ]
    },
    {
      "cell_type": "code",
      "metadata": {
        "id": "D2tCRx-mmFZ2",
        "colab_type": "code",
        "colab": {}
      },
      "source": [
        "train = pd.read_pickle('data/train.p')\n",
        "test = pd.read_pickle('data/test.p')\n",
        "\n",
        "\n",
        "X_train, y_train = train['features'], train['labels']\n",
        "X_test, y_test = test['features'], test['labels']"
      ],
      "execution_count": 0,
      "outputs": []
    },
    {
      "cell_type": "code",
      "metadata": {
        "id": "rGKvicPdmIp9",
        "colab_type": "code",
        "colab": {}
      },
      "source": [
        "if y_train.ndim == 1: y_train = to_categorical(y_train)\n",
        "if y_test.ndim == 1: y_test = to_categorical(y_test)\n",
        "\n",
        "input_shape = X_train.shape[1:]\n",
        "num_classes = y_train.shape[1]"
      ],
      "execution_count": 0,
      "outputs": []
    },
    {
      "cell_type": "code",
      "metadata": {
        "id": "6BTTKm4AmUnm",
        "colab_type": "code",
        "colab": {}
      },
      "source": [
        "def train_model(model, X_train, y_train, params_fit={}):\n",
        "  model.compile(loss='categorical_crossentropy', optimizer='Adam', metrics=['accuracy'])\n",
        "  \n",
        "\n",
        "  logdir = os.path.join(\"logs\", datetime.datetime.now().strftime(\"%Y%m%d-%H%M%S\"))\n",
        "  tensorboard_callback = tf.keras.callbacks.TensorBoard(logdir, histogram_freq=1)\n",
        "\n",
        "  model.fit(\n",
        "      X_train,\n",
        "      y_train,\n",
        "      batch_size=params_fit.get('batch_size', 128),\n",
        "      epochs=params_fit.get('epochs', 5),\n",
        "      verbose=params_fit.get('verbose', 1),\n",
        "      validation_data=params_fit.get('validation_data', (X_train, y_train)),\n",
        "      callbacks= [tensorboard_callback]\n",
        "\n",
        "  )\n",
        "  return model\n",
        "\n",
        "  \n"
      ],
      "execution_count": 0,
      "outputs": []
    },
    {
      "cell_type": "code",
      "metadata": {
        "id": "lGcrzNITnoHU",
        "colab_type": "code",
        "colab": {}
      },
      "source": [
        "def predict(model_trained, X_test, y_test, scoring=accuracy_score):\n",
        "\n",
        "  y_test_norm = np.argmax(y_test, axis=1)\n",
        "\n",
        "  y_pred_prob = model_trained.predict(X_test)\n",
        "  y_pred = np.argmax(y_pred_prob, axis=1)\n",
        "\n",
        "  return scoring(y_test_norm, y_pred)"
      ],
      "execution_count": 0,
      "outputs": []
    },
    {
      "cell_type": "code",
      "metadata": {
        "id": "gatB2NlQnCgU",
        "colab_type": "code",
        "colab": {}
      },
      "source": [
        "def get_cnn_v5(input_shape, num_classes):\n",
        "  return Sequential([\n",
        "    Conv2D(filters=32, kernel_size=(3,3), activation='relu', input_shape=input_shape),\n",
        "    Conv2D(filters=32, kernel_size=(3,3), activation='relu', padding='same'),\n",
        "    MaxPool2D(),\n",
        "    Dropout(0.3),\n",
        "\n",
        "\n",
        "    Conv2D(filters=64, kernel_size=(3,3), activation='relu', padding='same'),\n",
        "    Conv2D(filters=64, kernel_size=(3,3), activation='relu'),\n",
        "    MaxPool2D(),\n",
        "    Dropout(0.3),\n",
        "\n",
        "    Conv2D(filters=64, kernel_size=(3,3), activation='relu', padding='same'),\n",
        "    Conv2D(filters=64, kernel_size=(3,3), activation='relu'),\n",
        "    MaxPool2D(),\n",
        "    Dropout(0.3),\n",
        "\n",
        "    Flatten(),\n",
        "\n",
        "    Dense(1024, activation='relu'),\n",
        "    Dropout(0.3),\n",
        "\n",
        "    Dense(1024, activation='relu'),\n",
        "    Dropout(0.3),\n",
        "\n",
        "\n",
        "    Dense(num_classes, activation='softmax'),\n",
        "  ])\n",
        "\n",
        "\n",
        "\n"
      ],
      "execution_count": 0,
      "outputs": []
    },
    {
      "cell_type": "code",
      "metadata": {
        "id": "rhy-kfOHnYg0",
        "colab_type": "code",
        "colab": {
          "base_uri": "https://localhost:8080/",
          "height": 204
        },
        "outputId": "9382b14e-52f5-4e03-8bf2-1b7b962efd7e"
      },
      "source": [
        "model = get_cnn_v5(input_shape, num_classes)\n",
        "model_trained = train_model(model, X_train, y_train)\n",
        "predict(model_trained, X_test, y_test)"
      ],
      "execution_count": 13,
      "outputs": [
        {
          "output_type": "stream",
          "text": [
            "Epoch 1/5\n",
            "272/272 [==============================] - 4s 15ms/step - loss: 2.6786 - accuracy: 0.2788 - val_loss: 1.1860 - val_accuracy: 0.6205\n",
            "Epoch 2/5\n",
            "272/272 [==============================] - 4s 14ms/step - loss: 0.9959 - accuracy: 0.6834 - val_loss: 0.3676 - val_accuracy: 0.8721\n",
            "Epoch 3/5\n",
            "272/272 [==============================] - 4s 14ms/step - loss: 0.5110 - accuracy: 0.8371 - val_loss: 0.1720 - val_accuracy: 0.9460\n",
            "Epoch 4/5\n",
            "272/272 [==============================] - 4s 14ms/step - loss: 0.3330 - accuracy: 0.8964 - val_loss: 0.0924 - val_accuracy: 0.9732\n",
            "Epoch 5/5\n",
            "272/272 [==============================] - 4s 14ms/step - loss: 0.2370 - accuracy: 0.9273 - val_loss: 0.0687 - val_accuracy: 0.9803\n"
          ],
          "name": "stdout"
        },
        {
          "output_type": "execute_result",
          "data": {
            "text/plain": [
              "0.9517006802721089"
            ]
          },
          "metadata": {
            "tags": []
          },
          "execution_count": 13
        }
      ]
    },
    {
      "cell_type": "code",
      "metadata": {
        "id": "pyJ3cb-4qJWl",
        "colab_type": "code",
        "colab": {
          "base_uri": "https://localhost:8080/",
          "height": 51
        },
        "outputId": "94f31ba6-886f-4de3-9c1c-04c93d88a1bd"
      },
      "source": [
        "model_trained.evaluate(X_test, y_test)[1]"
      ],
      "execution_count": 15,
      "outputs": [
        {
          "output_type": "stream",
          "text": [
            "138/138 [==============================] - 0s 3ms/step - loss: 0.2055 - accuracy: 0.9517\n"
          ],
          "name": "stdout"
        },
        {
          "output_type": "execute_result",
          "data": {
            "text/plain": [
              "0.9517006874084473"
            ]
          },
          "metadata": {
            "tags": []
          },
          "execution_count": 15
        }
      ]
    },
    {
      "cell_type": "code",
      "metadata": {
        "id": "3_fIhnHbw-mJ",
        "colab_type": "code",
        "colab": {}
      },
      "source": [
        "def get_model(params):\n",
        "  return Sequential([\n",
        "    Conv2D(filters=32, kernel_size=(3,3), activation='relu', input_shape=input_shape),\n",
        "    Conv2D(filters=32, kernel_size=(3,3), activation='relu', padding='same'),\n",
        "    MaxPool2D(),\n",
        "    Dropout(params['dropout_cnn_block_one']),\n",
        "\n",
        "\n",
        "    Conv2D(filters=64, kernel_size=(3,3), activation='relu', padding='same'),\n",
        "    Conv2D(filters=64, kernel_size=(3,3), activation='relu'),\n",
        "    MaxPool2D(),\n",
        "    Dropout(params['dropout_cnn_block_two']),\n",
        "\n",
        "    Conv2D(filters=128, kernel_size=(3,3), activation='relu', padding='same'),\n",
        "    Conv2D(filters=128, kernel_size=(3,3), activation='relu'),\n",
        "    MaxPool2D(),\n",
        "    Dropout(params['dropout_cnn_block_three']),\n",
        "\n",
        "    Flatten(),\n",
        "\n",
        "    Dense(1024, activation='relu'),\n",
        "    Dropout(params['dropout_dense_block_one']),\n",
        "\n",
        "    Dense(1024, activation='relu'),\n",
        "    Dropout(params['dropout_dense_block_two']),\n",
        "\n",
        "\n",
        "    Dense(num_classes, activation='softmax'),\n",
        "  ])\n",
        "\n",
        "\n",
        "\n"
      ],
      "execution_count": 0,
      "outputs": []
    },
    {
      "cell_type": "code",
      "metadata": {
        "id": "pu6f7l1FpLbT",
        "colab_type": "code",
        "colab": {}
      },
      "source": [
        "def func_obj(params):\n",
        "  model = get_model(params)\n",
        "  model.compile(loss='categorical_crossentropy', optimizer='Adam', metrics=['accuracy'])\n",
        "  \n",
        "\n",
        "\n",
        "  model.fit(\n",
        "      X_train,\n",
        "      y_train,\n",
        "      batch_size=int(params.get('batch_size', 128)),\n",
        "      epochs=5,\n",
        "      verbose=0\n",
        "      \n",
        "  )\n",
        "\n",
        "  score = model.evaluate(X_test, y_test, verbose=0)\n",
        "  accuracy = score[1]\n",
        "  print(params, 'accuracy={}'.format(accuracy))\n",
        "\n",
        "  return {'loss': -accuracy, 'status': STATUS_OK, 'model':model}"
      ],
      "execution_count": 0,
      "outputs": []
    },
    {
      "cell_type": "code",
      "metadata": {
        "id": "ygJmxujJu7cy",
        "colab_type": "code",
        "colab": {
          "base_uri": "https://localhost:8080/",
          "height": 1000
        },
        "outputId": "5e0523e7-fa3e-4c1a-da19-1667f3b14fe0"
      },
      "source": [
        "space = {\n",
        "    'batch_size' : hp.quniform('batch_size', 100, 200, 10),\n",
        "    'dropout_cnn_block_one' : hp.uniform('dropout_cnn_block_one', 0.3, 0.5),\n",
        "    'dropout_cnn_block_two' : hp.uniform('dropout_cnn_block_two', 0.3, 0.5),\n",
        "    'dropout_cnn_block_three' : hp.uniform('dropout_cnn_block_three', 0.3, 0.5),\n",
        "\n",
        "    'dropout_dense_block_one' : hp.uniform('dropout_dense_block_one', 0.3, 0.7),\n",
        "    'dropout_dense_block_two' : hp.uniform('dropout_dense_block_two', 0.3, 0.7),\n",
        "}\n",
        "\n",
        "best = fmin(\n",
        "    func_obj,\n",
        "    space,\n",
        "    tpe.suggest,\n",
        "    30,\n",
        "    Trials()\n",
        ")"
      ],
      "execution_count": 35,
      "outputs": [
        {
          "output_type": "stream",
          "text": [
            "{'batch_size': 180.0, 'dropout_cnn_block_one': 0.4859147982867026, 'dropout_cnn_block_three': 0.4394940269618302, 'dropout_cnn_block_two': 0.4240508214576322, 'dropout_dense_block_one': 0.39322580272426766, 'dropout_dense_block_two': 0.31792299255474826}\n",
            "accuracy=0.8727891445159912\n",
            "{'batch_size': 180.0, 'dropout_cnn_block_one': 0.38772514911402106, 'dropout_cnn_block_three': 0.4900479167645517, 'dropout_cnn_block_two': 0.38071522551250464, 'dropout_dense_block_one': 0.6388629427333297, 'dropout_dense_block_two': 0.5119074398148835}\n",
            "accuracy=0.8619047403335571\n",
            "{'batch_size': 120.0, 'dropout_cnn_block_one': 0.4819687593017937, 'dropout_cnn_block_three': 0.3237997883270203, 'dropout_cnn_block_two': 0.47643557135595427, 'dropout_dense_block_one': 0.6002203299617768, 'dropout_dense_block_two': 0.32205551659074816}\n",
            "accuracy=0.9510204195976257\n",
            "{'batch_size': 150.0, 'dropout_cnn_block_one': 0.47866735685439804, 'dropout_cnn_block_three': 0.4311686784078968, 'dropout_cnn_block_two': 0.385624625484249, 'dropout_dense_block_one': 0.3330835922038382, 'dropout_dense_block_two': 0.41402088717047714}\n",
            "accuracy=0.9315192699432373\n",
            "{'batch_size': 150.0, 'dropout_cnn_block_one': 0.39969770118891124, 'dropout_cnn_block_three': 0.3466569508807155, 'dropout_cnn_block_two': 0.4660340873187026, 'dropout_dense_block_one': 0.36403597041356084, 'dropout_dense_block_two': 0.4326604588923195}\n",
            "accuracy=0.9399092793464661\n",
            "{'batch_size': 180.0, 'dropout_cnn_block_one': 0.3161852748622845, 'dropout_cnn_block_three': 0.43265718621833926, 'dropout_cnn_block_two': 0.3552589704203351, 'dropout_dense_block_one': 0.5676353002018564, 'dropout_dense_block_two': 0.5749489589939689}\n",
            "accuracy=0.924263060092926\n",
            "{'batch_size': 190.0, 'dropout_cnn_block_one': 0.3623368779548801, 'dropout_cnn_block_three': 0.47989413763340166, 'dropout_cnn_block_two': 0.4374333286857983, 'dropout_dense_block_one': 0.572522061697667, 'dropout_dense_block_two': 0.6051469783851544}\n",
            "accuracy=0.8292517066001892\n",
            "{'batch_size': 100.0, 'dropout_cnn_block_one': 0.39288464428334513, 'dropout_cnn_block_three': 0.3454586324229637, 'dropout_cnn_block_two': 0.33805577692473465, 'dropout_dense_block_one': 0.3788913576063133, 'dropout_dense_block_two': 0.6905541158621893}\n",
            "accuracy=0.9340136051177979\n",
            "{'batch_size': 160.0, 'dropout_cnn_block_one': 0.3768533948129845, 'dropout_cnn_block_three': 0.374062153000922, 'dropout_cnn_block_two': 0.30003348501006183, 'dropout_dense_block_one': 0.5496587743061948, 'dropout_dense_block_two': 0.6754970560625996}\n",
            "accuracy=0.9133786559104919\n",
            "{'batch_size': 180.0, 'dropout_cnn_block_one': 0.411669828706019, 'dropout_cnn_block_three': 0.3965954612930636, 'dropout_cnn_block_two': 0.46021479059286347, 'dropout_dense_block_one': 0.3989287896264775, 'dropout_dense_block_two': 0.5887573685849863}\n",
            "accuracy=0.8911564350128174\n",
            "{'batch_size': 130.0, 'dropout_cnn_block_one': 0.47862954863422436, 'dropout_cnn_block_three': 0.323189327680007, 'dropout_cnn_block_two': 0.4596632459763159, 'dropout_dense_block_one': 0.41981068508716524, 'dropout_dense_block_two': 0.4693400261637851}\n",
            "accuracy=0.9240362644195557\n",
            "{'batch_size': 150.0, 'dropout_cnn_block_one': 0.3291682696388403, 'dropout_cnn_block_three': 0.4521803352539945, 'dropout_cnn_block_two': 0.43334049677349684, 'dropout_dense_block_one': 0.42999970661295284, 'dropout_dense_block_two': 0.5194218182256002}\n",
            "accuracy=0.9356009364128113\n",
            "{'batch_size': 160.0, 'dropout_cnn_block_one': 0.384782010443727, 'dropout_cnn_block_three': 0.3480348001032938, 'dropout_cnn_block_two': 0.3703948494911228, 'dropout_dense_block_one': 0.3266252925530469, 'dropout_dense_block_two': 0.3412048820289653}\n",
            "accuracy=0.9437641501426697\n",
            "{'batch_size': 180.0, 'dropout_cnn_block_one': 0.45964452327385896, 'dropout_cnn_block_three': 0.4274332111572624, 'dropout_cnn_block_two': 0.4586016556706298, 'dropout_dense_block_one': 0.32912256349351077, 'dropout_dense_block_two': 0.6637293981326682}\n",
            "accuracy=0.8410430550575256\n",
            "{'batch_size': 150.0, 'dropout_cnn_block_one': 0.3046785737595124, 'dropout_cnn_block_three': 0.38447723416750934, 'dropout_cnn_block_two': 0.3663227711266325, 'dropout_dense_block_one': 0.3422077965443784, 'dropout_dense_block_two': 0.5899048049794737}\n",
            "accuracy=0.9646258354187012\n",
            "{'batch_size': 190.0, 'dropout_cnn_block_one': 0.4788684603623985, 'dropout_cnn_block_three': 0.4322800324778028, 'dropout_cnn_block_two': 0.392912252806848, 'dropout_dense_block_one': 0.43353480387945986, 'dropout_dense_block_two': 0.6464016469887308}\n",
            "accuracy=0.9235827922821045\n",
            "{'batch_size': 180.0, 'dropout_cnn_block_one': 0.4150650425344595, 'dropout_cnn_block_three': 0.3787779011060466, 'dropout_cnn_block_two': 0.4023757808716729, 'dropout_dense_block_one': 0.5127575670484277, 'dropout_dense_block_two': 0.6579164345297693}\n",
            "accuracy=0.8886621594429016\n",
            "{'batch_size': 120.0, 'dropout_cnn_block_one': 0.3995503248512076, 'dropout_cnn_block_three': 0.4111025662498802, 'dropout_cnn_block_two': 0.4444707328662245, 'dropout_dense_block_one': 0.597631792595462, 'dropout_dense_block_two': 0.5602515686997716}\n",
            "accuracy=0.9378684759140015\n",
            "{'batch_size': 170.0, 'dropout_cnn_block_one': 0.4033326074600707, 'dropout_cnn_block_three': 0.3574277570460776, 'dropout_cnn_block_two': 0.3657316227437626, 'dropout_dense_block_one': 0.3046109374357418, 'dropout_dense_block_two': 0.6554344448453818}\n",
            "accuracy=0.9249433279037476\n",
            "{'batch_size': 130.0, 'dropout_cnn_block_one': 0.32040244100444354, 'dropout_cnn_block_three': 0.3062862373896737, 'dropout_cnn_block_two': 0.3856065192966696, 'dropout_dense_block_one': 0.48687859510294207, 'dropout_dense_block_two': 0.3470611771013761}\n",
            "accuracy=0.9546485543251038\n",
            "{'batch_size': 130.0, 'dropout_cnn_block_one': 0.303100418668724, 'dropout_cnn_block_three': 0.30314607469908206, 'dropout_cnn_block_two': 0.32864810058535265, 'dropout_dense_block_one': 0.49106262865418077, 'dropout_dense_block_two': 0.38393520211269966}\n",
            "accuracy=0.97981858253479\n",
            "{'batch_size': 130.0, 'dropout_cnn_block_one': 0.3004295542707462, 'dropout_cnn_block_three': 0.30135837428451023, 'dropout_cnn_block_two': 0.31895564875529175, 'dropout_dense_block_one': 0.48234562985216445, 'dropout_dense_block_two': 0.3797434370049906}\n",
            "accuracy=0.9578231573104858\n",
            "{'batch_size': 100.0, 'dropout_cnn_block_one': 0.3467363285576563, 'dropout_cnn_block_three': 0.32269952631784765, 'dropout_cnn_block_two': 0.3358378502840781, 'dropout_dense_block_one': 0.6825092743368201, 'dropout_dense_block_two': 0.4553752308591015}\n",
            "accuracy=0.956916093826294\n",
            "{'batch_size': 140.0, 'dropout_cnn_block_one': 0.3012556546622149, 'dropout_cnn_block_three': 0.4657616589010895, 'dropout_cnn_block_two': 0.3022545952450765, 'dropout_dense_block_one': 0.4667798463472454, 'dropout_dense_block_two': 0.5431959007616849}\n",
            "accuracy=0.9696145057678223\n",
            "{'batch_size': 120.0, 'dropout_cnn_block_one': 0.3383273089405537, 'dropout_cnn_block_three': 0.46429342085408004, 'dropout_cnn_block_two': 0.3020296932609788, 'dropout_dense_block_one': 0.4609901078967912, 'dropout_dense_block_two': 0.5437417492604317}\n",
            "accuracy=0.963718831539154\n",
            "{'batch_size': 140.0, 'dropout_cnn_block_one': 0.35406627971318, 'dropout_cnn_block_three': 0.4781173189079099, 'dropout_cnn_block_two': 0.31548879382720457, 'dropout_dense_block_one': 0.5191499571386572, 'dropout_dense_block_two': 0.40255479650219494}\n",
            "accuracy=0.961904764175415\n",
            "{'batch_size': 110.0, 'dropout_cnn_block_one': 0.4314017191955674, 'dropout_cnn_block_three': 0.4990224450904978, 'dropout_cnn_block_two': 0.33923024254067097, 'dropout_dense_block_one': 0.5226277907756455, 'dropout_dense_block_two': 0.4811904353059422}\n",
            "accuracy=0.9290249347686768\n",
            "{'batch_size': 140.0, 'dropout_cnn_block_one': 0.3013756009678315, 'dropout_cnn_block_three': 0.40936906859032807, 'dropout_cnn_block_two': 0.3144263932041143, 'dropout_dense_block_one': 0.4589471675291928, 'dropout_dense_block_two': 0.6241492792580581}\n",
            "accuracy=0.9149659872055054\n",
            "{'batch_size': 140.0, 'dropout_cnn_block_one': 0.3667787538390013, 'dropout_cnn_block_three': 0.45944382124150984, 'dropout_cnn_block_two': 0.40735361721579494, 'dropout_dense_block_one': 0.4607273878101801, 'dropout_dense_block_two': 0.3832317526629583}\n",
            "accuracy=0.9639455676078796\n",
            "{'batch_size': 110.0, 'dropout_cnn_block_one': 0.31627945552300535, 'dropout_cnn_block_three': 0.4146293149066027, 'dropout_cnn_block_two': 0.32952454896313926, 'dropout_dense_block_one': 0.5422597751198729, 'dropout_dense_block_two': 0.5331563834980241}\n",
            "accuracy=0.9589568972587585\n",
            "100%|██████████| 30/30 [05:28<00:00, 10.93s/it, best loss: -0.97981858253479]\n"
          ],
          "name": "stdout"
        }
      ]
    },
    {
      "cell_type": "code",
      "metadata": {
        "id": "81PvLR9SwjJF",
        "colab_type": "code",
        "colab": {}
      },
      "source": [
        ""
      ],
      "execution_count": 0,
      "outputs": []
    }
  ]
}